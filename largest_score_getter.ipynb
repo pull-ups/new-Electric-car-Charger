{
 "cells": [
  {
   "cell_type": "code",
   "execution_count": 1,
   "metadata": {
    "executionInfo": {
     "elapsed": 2209,
     "status": "ok",
     "timestamp": 1621794340079,
     "user": {
      "displayName": "임승원",
      "photoUrl": "",
      "userId": "14071711355982969288"
     },
     "user_tz": -540
    },
    "id": "M_Q9sw2V-7Kt"
   },
   "outputs": [],
   "source": [
    "import numpy as np\n",
    "import pandas as pd\n",
    "traffic=pd.read_excel('04월 서울시 교통량 조사자료.xlsx')\n",
    "traffic_latlon=pd.read_excel('04월 서울시 교통량 조사자료-수집지점 좌표.xlsx')\n",
    "charger=pd.read_excel('전기차 충전소 설치현황_20210522.xls')"
   ]
  },
  {
   "cell_type": "code",
   "execution_count": 30,
   "metadata": {},
   "outputs": [
    {
     "data": {
      "text/plain": [
       "array([[111.60645143, 110.80162454, 110.        , ..., 136.20939762,\n",
       "        137.00364959, 137.80058055],\n",
       "       [111.01801656, 110.20889256, 109.40292501, ..., 135.60235986,\n",
       "        136.40014663, 137.20058309],\n",
       "       [110.43550154, 109.62207807, 108.81176407, ..., 135.        ,\n",
       "        135.80132547, 136.60527076],\n",
       "       ...,\n",
       "       [154.18495387, 153.6814888 , 153.18289722, ..., 168.76018488,\n",
       "        169.2837854 , 169.81166038],\n",
       "       [155.04837955, 154.54772726, 154.05193929, ..., 169.61426827,\n",
       "        170.13524032, 170.66048166],\n",
       "       [155.91343752, 155.41557194, 154.9225613 , ..., 170.4699387 ,\n",
       "        170.98830369, 171.5109326 ]])"
      ]
     },
     "execution_count": 30,
     "metadata": {},
     "output_type": "execute_result"
    }
   ],
   "source": [
    "distance_score"
   ]
  },
  {
   "cell_type": "code",
   "execution_count": 31,
   "metadata": {},
   "outputs": [],
   "source": [
    "np.save('distance_score_500x300', distance_score)"
   ]
  },
  {
   "cell_type": "code",
   "execution_count": 33,
   "metadata": {},
   "outputs": [
    {
     "name": "stdout",
     "output_type": "stream",
     "text": [
      "평균 : 38.28660504675492\n",
      "표준편차 : 35.46599326959018\n"
     ]
    }
   ],
   "source": [
    "print('평균 :', np.mean(distance_score))\n",
    "print('표준편차 :', np.std(distance_score))"
   ]
  },
  {
   "cell_type": "code",
   "execution_count": 37,
   "metadata": {},
   "outputs": [],
   "source": [
    "# 더 큰 단위에서 최대값 구하기\n",
    "def max_larger(score):\n",
    "    max_larger_score = np.zeros((31, 54))\n",
    "    for i in range(31):\n",
    "        for j in range(54):\n",
    "            try:\n",
    "                max_larger_score[i, j] = np.max(score[10*i:10*(i+1), 10*j:10*(j+1)])\n",
    "            except:\n",
    "                max_larger_score[i, j] = np.max(score[10*i:, 10*j:])\n",
    "    return max_larger_score"
   ]
  },
  {
   "cell_type": "code",
   "execution_count": 103,
   "metadata": {},
   "outputs": [],
   "source": [
    "# n개의 가장 큰 점수 구하기\n",
    "def n_largest_scores(score, n):\n",
    "    n_largest_score = np.zeros(n)\n",
    "    score_ = score.ravel()\n",
    "    score_.sort()\n",
    "    return score_[-n:]"
   ]
  },
  {
   "cell_type": "code",
   "execution_count": 38,
   "metadata": {},
   "outputs": [],
   "source": [
    "max_larger_distance_score = max_larger(distance_score)"
   ]
  },
  {
   "cell_type": "code",
   "execution_count": 39,
   "metadata": {},
   "outputs": [
    {
     "data": {
      "text/plain": [
       "array([[111.60645143, 103.7111373 ,  96.20810777, ..., 126.15070353,\n",
       "        133.84319183, 137.80058055],\n",
       "       [106.        ,  97.65244493,  89.64373932, ..., 119.80818002,\n",
       "        127.88275881, 132.01893804],\n",
       "       [101.07423015,  92.28217596,  83.76156637, ..., 113.99122773,\n",
       "        122.44998979, 126.76355943],\n",
       "       ...,\n",
       "       [145.64683313, 140.54536634, 135.98897014, ..., 153.56106277,\n",
       "        158.685223  , 161.41871019],\n",
       "       [154.18495387, 149.37536611, 145.0965196 , ..., 162.36070953,\n",
       "        167.21542991, 169.81166038],\n",
       "       [155.91343752, 151.15885684, 146.93195704, ..., 163.68567439,\n",
       "        168.94081804, 171.5109326 ]])"
      ]
     },
     "execution_count": 39,
     "metadata": {},
     "output_type": "execute_result"
    }
   ],
   "source": [
    "max_larger_distance_score"
   ]
  },
  {
   "cell_type": "code",
   "execution_count": 41,
   "metadata": {},
   "outputs": [
    {
     "data": {
      "text/plain": [
       "(31, 54)"
      ]
     },
     "execution_count": 41,
     "metadata": {},
     "output_type": "execute_result"
    }
   ],
   "source": [
    "max_larger_distance_score.shape"
   ]
  },
  {
   "cell_type": "code",
   "execution_count": 107,
   "metadata": {},
   "outputs": [],
   "source": [
    "ten_largest_scores = n_largest_scores(max_larger_distance_score, 10)"
   ]
  },
  {
   "cell_type": "code",
   "execution_count": 108,
   "metadata": {},
   "outputs": [
    {
     "data": {
      "text/plain": [
       "array([154.76756766, 155.91343752, 158.685223  , 161.41871019,\n",
       "       162.36070953, 163.68567439, 167.21542991, 168.94081804,\n",
       "       169.81166038, 171.5109326 ])"
      ]
     },
     "execution_count": 108,
     "metadata": {},
     "output_type": "execute_result"
    }
   ],
   "source": [
    "ten_largest_scores"
   ]
  },
  {
   "cell_type": "code",
   "execution_count": 110,
   "metadata": {},
   "outputs": [
    {
     "name": "stdout",
     "output_type": "stream",
     "text": [
      "(array([283, 292, 301], dtype=int64), array([531, 516, 509], dtype=int64))\n",
      "(array([290, 301], dtype=int64), array([522,   0], dtype=int64))\n",
      "(array([289], dtype=int64), array([529], dtype=int64))\n",
      "(array([289], dtype=int64), array([534], dtype=int64))\n",
      "(array([299], dtype=int64), array([519], dtype=int64))\n",
      "(array([301], dtype=int64), array([519], dtype=int64))\n",
      "(array([299], dtype=int64), array([529], dtype=int64))\n",
      "(array([301], dtype=int64), array([529], dtype=int64))\n",
      "(array([299], dtype=int64), array([534], dtype=int64))\n",
      "(array([301], dtype=int64), array([534], dtype=int64))\n"
     ]
    }
   ],
   "source": [
    "for i in ten_largest_scores:\n",
    "    print(np.where(distance_score == i))"
   ]
  },
  {
   "cell_type": "code",
   "execution_count": null,
   "metadata": {},
   "outputs": [],
   "source": []
  }
 ],
 "metadata": {
  "colab": {
   "authorship_tag": "ABX9TyP3NYXQ2O0esv6GOd+J+/xQ",
   "name": "eleccar.ipynb",
   "provenance": []
  },
  "kernelspec": {
   "display_name": "Python 3",
   "language": "python",
   "name": "python3"
  },
  "language_info": {
   "codemirror_mode": {
    "name": "ipython",
    "version": 3
   },
   "file_extension": ".py",
   "mimetype": "text/x-python",
   "name": "python",
   "nbconvert_exporter": "python",
   "pygments_lexer": "ipython3",
   "version": "3.8.5"
  }
 },
 "nbformat": 4,
 "nbformat_minor": 1
}
